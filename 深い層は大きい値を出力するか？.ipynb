{
  "nbformat": 4,
  "nbformat_minor": 0,
  "metadata": {
    "colab": {
      "provenance": [],
      "authorship_tag": "ABX9TyM9yEJAvFTNSYYQbAdRT4FS",
      "include_colab_link": true
    },
    "kernelspec": {
      "name": "python3",
      "display_name": "Python 3"
    },
    "language_info": {
      "name": "python"
    }
  },
  "cells": [
    {
      "cell_type": "markdown",
      "metadata": {
        "id": "view-in-github",
        "colab_type": "text"
      },
      "source": [
        "<a href=\"https://colab.research.google.com/github/penguinshunya/ml/blob/main/%E6%B7%B1%E3%81%84%E5%B1%A4%E3%81%AF%E5%A4%A7%E3%81%8D%E3%81%84%E5%80%A4%E3%82%92%E5%87%BA%E5%8A%9B%E3%81%99%E3%82%8B%E3%81%8B%EF%BC%9F.ipynb\" target=\"_parent\"><img src=\"https://colab.research.google.com/assets/colab-badge.svg\" alt=\"Open In Colab\"/></a>"
      ]
    },
    {
      "cell_type": "code",
      "execution_count": 1,
      "metadata": {
        "id": "x13lxpsI0wPP"
      },
      "outputs": [],
      "source": [
        "import numpy as np\n",
        "import tensorflow as tf"
      ]
    },
    {
      "cell_type": "code",
      "source": [
        "inputs = tf.keras.layers.Input((1,))\n",
        "outputs = tf.keras.layers.Dense(1)(inputs)\n",
        "model = tf.keras.Model(inputs, outputs)\n",
        "model(np.ones((1, 1)))"
      ],
      "metadata": {
        "colab": {
          "base_uri": "https://localhost:8080/"
        },
        "id": "ANnw6s0N08NX",
        "outputId": "0727f9fe-cd4f-4a5c-a7c9-26a278420716"
      },
      "execution_count": 7,
      "outputs": [
        {
          "output_type": "execute_result",
          "data": {
            "text/plain": [
              "<tf.Tensor: shape=(1, 1), dtype=float32, numpy=array([[-0.9002898]], dtype=float32)>"
            ]
          },
          "metadata": {},
          "execution_count": 7
        }
      ]
    },
    {
      "cell_type": "code",
      "source": [
        "inputs = tf.keras.layers.Input((1,))\n",
        "x = inputs\n",
        "for i in range(100):\n",
        "  x = tf.keras.layers.Dense(1)(x)\n",
        "outputs = x\n",
        "model = tf.keras.Model(inputs, outputs)\n",
        "model(np.ones((1, 1)))"
      ],
      "metadata": {
        "colab": {
          "base_uri": "https://localhost:8080/"
        },
        "id": "o5BjomnN1iua",
        "outputId": "f68398da-b4ef-4069-cc0b-336b246f57de"
      },
      "execution_count": 6,
      "outputs": [
        {
          "output_type": "execute_result",
          "data": {
            "text/plain": [
              "<tf.Tensor: shape=(1, 1), dtype=float32, numpy=array([[-6.409588e-22]], dtype=float32)>"
            ]
          },
          "metadata": {},
          "execution_count": 6
        }
      ]
    },
    {
      "cell_type": "code",
      "source": [
        "inputs = tf.keras.layers.Input((3, 3, 3))\n",
        "outputs = tf.keras.layers.Conv2D(3, 3, padding=\"same\")(inputs)\n",
        "model = tf.keras.Model(inputs, outputs)\n",
        "model(np.ones((1, 3, 3, 3)))"
      ],
      "metadata": {
        "colab": {
          "base_uri": "https://localhost:8080/"
        },
        "id": "m5EhICfP1uI0",
        "outputId": "321fcf64-450c-44da-c38f-35d3cf3d1b59"
      },
      "execution_count": 8,
      "outputs": [
        {
          "output_type": "execute_result",
          "data": {
            "text/plain": [
              "<tf.Tensor: shape=(1, 3, 3, 3), dtype=float32, numpy=\n",
              "array([[[[-0.5177243 ,  0.27364734, -0.54069674],\n",
              "         [-1.27762   ,  0.3109943 , -1.3589487 ],\n",
              "         [-0.87121797,  0.26136184, -0.85414433]],\n",
              "\n",
              "        [[-0.7079085 ,  0.2595376 , -0.4479664 ],\n",
              "         [-1.5389167 ,  0.3572798 , -1.8204361 ],\n",
              "         [-1.0643494 ,  0.25396073, -1.2536467 ]],\n",
              "\n",
              "        [[-0.43340284,  0.5078733 , -0.22711307],\n",
              "         [-1.1337273 ,  0.51642233, -1.0700166 ],\n",
              "         [-0.6426104 ,  0.39533648, -0.69759786]]]], dtype=float32)>"
            ]
          },
          "metadata": {},
          "execution_count": 8
        }
      ]
    },
    {
      "cell_type": "code",
      "source": [
        "inputs = tf.keras.layers.Input((3, 3, 3))\n",
        "x = inputs\n",
        "for i in range(100):\n",
        "  x = tf.keras.layers.Conv2D(3, 3, padding=\"same\")(x)\n",
        "outputs = x\n",
        "model = tf.keras.Model(inputs, outputs)\n",
        "model(np.ones((1, 3, 3, 3)))"
      ],
      "metadata": {
        "colab": {
          "base_uri": "https://localhost:8080/"
        },
        "id": "cKH-W2N-17LD",
        "outputId": "8d4d2db4-2eef-484a-b96b-5e170bf36570"
      },
      "execution_count": 9,
      "outputs": [
        {
          "output_type": "execute_result",
          "data": {
            "text/plain": [
              "<tf.Tensor: shape=(1, 3, 3, 3), dtype=float32, numpy=\n",
              "array([[[[ 8.3368635e-14,  2.2209116e-12,  1.8648605e-12],\n",
              "         [-4.1239052e-12, -1.5477795e-12, -1.2504631e-12],\n",
              "         [-8.2127838e-12, -3.3113369e-12,  4.2099414e-12]],\n",
              "\n",
              "        [[ 1.6233559e-13,  2.2665084e-12, -4.3576709e-12],\n",
              "         [-7.7985561e-12, -2.8837826e-14, -1.2265347e-11],\n",
              "         [-7.2633687e-12, -1.7134482e-13, -1.2743486e-12]],\n",
              "\n",
              "        [[ 1.2094982e-12,  1.9076130e-12, -7.2865863e-12],\n",
              "         [ 6.8356562e-13,  3.9845037e-13, -3.4530371e-12],\n",
              "         [-4.1675665e-12, -4.3725305e-12,  1.6145129e-12]]]],\n",
              "      dtype=float32)>"
            ]
          },
          "metadata": {},
          "execution_count": 9
        }
      ]
    },
    {
      "cell_type": "markdown",
      "source": [
        "層が深くなるほど値は小さくなる"
      ],
      "metadata": {
        "id": "FBRiurPC2k30"
      }
    }
  ]
}